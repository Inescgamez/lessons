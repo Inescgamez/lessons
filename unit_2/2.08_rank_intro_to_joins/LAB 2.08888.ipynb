{
 "cells": [
  {
   "cell_type": "markdown",
   "id": "57164ce1-04b9-459c-92a1-63c51231f10a",
   "metadata": {},
   "source": [
    "# Lab | SQL Queries 8\n",
    "\n",
    "In this lab, you will be using the [Sakila](https://dev.mysql.com/doc/sakila/en/) database of movie rentals. You have been using this database for a couple labs already, but if you need to get the data again, refer to the official [installation link](https://dev.mysql.com/doc/sakila/en/sakila-installation.html).\n",
    "\n",
    "The database is structured as follows:\n",
    "![DB schema](https://education-team-2020.s3-eu-west-1.amazonaws.com/data-analytics/database-sakila-schema.png)\n",
    "\n",
    "### Instructions\n",
    "\n",
    "1. Rank films by length (filter out the rows with nulls or zeros in length column). Select only columns title, length and rank in your output.\n",
    "2. Rank films by length within the `rating` category (filter out the rows with nulls or zeros in length column). In your output, only select the columns title, length, rating and rank.  \n",
    "3. How many films are there for each of the categories in the category table? **Hint**: Use appropriate join between the tables \"category\" and \"film_category\".\n",
    "4. Which actor has appeared in the most films? **Hint**: You can create a join between the tables \"actor\" and \"film actor\" and count the number of times an actor appears.\n",
    "5. Which is the most active customer (the customer that has rented the most number of films)? **Hint**: Use appropriate join between the tables \"customer\" and \"rental\" and count the `rental_id` for each customer.\n",
    "\n",
    "**Bonus**: Which is the most rented film? (The answer is Bucket Brotherhood).\n",
    "\n",
    "This query might require using more than one join statement. Give it a try. We will talk about queries with multiple join statements later in the lessons.\n",
    "\n",
    "**Hint**: You can use join between three tables - \"Film\", \"Inventory\", and \"Rental\" and count the *rental ids* for each film."
   ]
  },
  {
   "cell_type": "markdown",
   "id": "64c37d3d-f47b-426a-a157-73a7222770b7",
   "metadata": {},
   "source": [
    "## SOLUTION"
   ]
  },
  {
   "cell_type": "code",
   "execution_count": 1,
   "id": "9bdacded-e7ad-4536-9b27-88787f7d30b8",
   "metadata": {},
   "outputs": [],
   "source": [
    "import pymysql\n",
    "from sqlalchemy import create_engine\n",
    "import pandas as pd\n",
    "import getpass  # To get the password without showing the input"
   ]
  },
  {
   "cell_type": "markdown",
   "id": "11fbfb1d-affb-41d2-a4bd-8d037dd8e396",
   "metadata": {},
   "source": [
    "##### Prepare SQL connection"
   ]
  },
  {
   "cell_type": "code",
   "execution_count": 3,
   "id": "8257acac-bf05-4065-8118-9091c5e3d050",
   "metadata": {},
   "outputs": [
    {
     "name": "stdin",
     "output_type": "stream",
     "text": [
      " ················\n"
     ]
    }
   ],
   "source": [
    "password = getpass.getpass()\n",
    "connection_string = 'mysql+pymysql://root:' + password + '@localhost/bank'\n",
    "engine = create_engine(connection_string)\n",
    "%load_ext sql\n",
    "%sql {connection_string}"
   ]
  },
  {
   "cell_type": "code",
   "execution_count": null,
   "id": "ac15e145-fb11-462d-a8c7-1c504bf7ef50",
   "metadata": {},
   "outputs": [],
   "source": [
    "### 1"
   ]
  },
  {
   "cell_type": "code",
   "execution_count": null,
   "id": "52e3ef5c-d05f-4efa-8200-444a1265a9d5",
   "metadata": {},
   "outputs": [],
   "source": [
    "%%sql\n",
    "select "
   ]
  },
  {
   "cell_type": "code",
   "execution_count": null,
   "id": "dc890da8-b650-45c9-99c1-61bcc3ae219b",
   "metadata": {},
   "outputs": [],
   "source": []
  },
  {
   "cell_type": "code",
   "execution_count": null,
   "id": "ef3c8343-1e7c-484d-9f5b-07a87e90d41f",
   "metadata": {},
   "outputs": [],
   "source": []
  },
  {
   "cell_type": "code",
   "execution_count": null,
   "id": "1fb5211e-ae47-4973-9a79-4758a12dadca",
   "metadata": {},
   "outputs": [],
   "source": []
  },
  {
   "cell_type": "code",
   "execution_count": null,
   "id": "e3b2b0ac-5753-46de-bb43-02a992f06058",
   "metadata": {},
   "outputs": [],
   "source": []
  },
  {
   "cell_type": "code",
   "execution_count": null,
   "id": "efc2ebd5-b031-43e0-96a6-611c83bd8bdf",
   "metadata": {},
   "outputs": [],
   "source": []
  }
 ],
 "metadata": {
  "kernelspec": {
   "display_name": "Python 3 (ipykernel)",
   "language": "python",
   "name": "python3"
  },
  "language_info": {
   "codemirror_mode": {
    "name": "ipython",
    "version": 3
   },
   "file_extension": ".py",
   "mimetype": "text/x-python",
   "name": "python",
   "nbconvert_exporter": "python",
   "pygments_lexer": "ipython3",
   "version": "3.9.12"
  }
 },
 "nbformat": 4,
 "nbformat_minor": 5
}
