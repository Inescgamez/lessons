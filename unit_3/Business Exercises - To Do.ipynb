{
 "cells": [
  {
   "cell_type": "markdown",
   "id": "e5b37760",
   "metadata": {},
   "source": [
    "# BI Exercises"
   ]
  },
  {
   "cell_type": "markdown",
   "id": "6e4edcd9",
   "metadata": {},
   "source": [
    "## Set Up"
   ]
  },
  {
   "cell_type": "code",
   "execution_count": 2,
   "id": "477ff8fb",
   "metadata": {
    "ExecuteTime": {
     "end_time": "2022-10-25T14:34:34.048664Z",
     "start_time": "2022-10-25T14:34:33.511959Z"
    }
   },
   "outputs": [],
   "source": [
    "%load_ext sql"
   ]
  },
  {
   "cell_type": "code",
   "execution_count": 3,
   "id": "7aafb340",
   "metadata": {
    "ExecuteTime": {
     "end_time": "2022-10-25T14:34:34.061333Z",
     "start_time": "2022-10-25T14:34:34.051153Z"
    }
   },
   "outputs": [],
   "source": [
    "%config SqlMagic.autopandas=True"
   ]
  },
  {
   "cell_type": "code",
   "execution_count": 4,
   "id": "098f627b",
   "metadata": {
    "ExecuteTime": {
     "end_time": "2022-10-25T14:34:34.074011Z",
     "start_time": "2022-10-25T14:34:34.063762Z"
    }
   },
   "outputs": [],
   "source": [
    "%config SqlMagic.displaycon=False"
   ]
  },
  {
   "cell_type": "code",
   "execution_count": 5,
   "id": "2adbbccb",
   "metadata": {
    "ExecuteTime": {
     "end_time": "2022-10-25T14:34:34.135676Z",
     "start_time": "2022-10-25T14:34:34.120623Z"
    }
   },
   "outputs": [],
   "source": [
    "%sql sqlite:///transactions.db"
   ]
  },
  {
   "cell_type": "code",
   "execution_count": 6,
   "id": "b67fa40b",
   "metadata": {
    "ExecuteTime": {
     "end_time": "2022-10-25T14:34:34.775101Z",
     "start_time": "2022-10-25T14:34:34.757342Z"
    }
   },
   "outputs": [
    {
     "name": "stdout",
     "output_type": "stream",
     "text": [
      "Done.\n"
     ]
    },
    {
     "data": {
      "text/html": [
       "<div>\n",
       "<style scoped>\n",
       "    .dataframe tbody tr th:only-of-type {\n",
       "        vertical-align: middle;\n",
       "    }\n",
       "\n",
       "    .dataframe tbody tr th {\n",
       "        vertical-align: top;\n",
       "    }\n",
       "\n",
       "    .dataframe thead th {\n",
       "        text-align: right;\n",
       "    }\n",
       "</style>\n",
       "<table border=\"1\" class=\"dataframe\">\n",
       "  <thead>\n",
       "    <tr style=\"text-align: right;\">\n",
       "      <th></th>\n",
       "      <th>transaction_id</th>\n",
       "      <th>payment_method</th>\n",
       "      <th>seller_id</th>\n",
       "      <th>buyer_id</th>\n",
       "      <th>transaction_date</th>\n",
       "      <th>product_price</th>\n",
       "    </tr>\n",
       "  </thead>\n",
       "  <tbody>\n",
       "    <tr>\n",
       "      <th>0</th>\n",
       "      <td>1294738</td>\n",
       "      <td>1</td>\n",
       "      <td>5107765</td>\n",
       "      <td>5007941</td>\n",
       "      <td>2022-05-11 15:46:38</td>\n",
       "      <td>1410.0</td>\n",
       "    </tr>\n",
       "    <tr>\n",
       "      <th>1</th>\n",
       "      <td>585369</td>\n",
       "      <td>4</td>\n",
       "      <td>4205200</td>\n",
       "      <td>4250752</td>\n",
       "      <td>2021-03-27 15:01:28</td>\n",
       "      <td>800.0</td>\n",
       "    </tr>\n",
       "    <tr>\n",
       "      <th>2</th>\n",
       "      <td>882933</td>\n",
       "      <td>4</td>\n",
       "      <td>581926</td>\n",
       "      <td>4695227</td>\n",
       "      <td>2021-10-20 14:45:11</td>\n",
       "      <td>800.0</td>\n",
       "    </tr>\n",
       "    <tr>\n",
       "      <th>3</th>\n",
       "      <td>1145325</td>\n",
       "      <td>3</td>\n",
       "      <td>536932</td>\n",
       "      <td>4865235</td>\n",
       "      <td>2022-03-06 17:37:04</td>\n",
       "      <td>1616.0</td>\n",
       "    </tr>\n",
       "    <tr>\n",
       "      <th>4</th>\n",
       "      <td>762483</td>\n",
       "      <td>5</td>\n",
       "      <td>432561</td>\n",
       "      <td>4186489</td>\n",
       "      <td>2021-08-06 11:33:12</td>\n",
       "      <td>840.0</td>\n",
       "    </tr>\n",
       "  </tbody>\n",
       "</table>\n",
       "</div>"
      ],
      "text/plain": [
       "   transaction_id  payment_method  seller_id  buyer_id     transaction_date  \\\n",
       "0         1294738               1    5107765   5007941  2022-05-11 15:46:38   \n",
       "1          585369               4    4205200   4250752  2021-03-27 15:01:28   \n",
       "2          882933               4     581926   4695227  2021-10-20 14:45:11   \n",
       "3         1145325               3     536932   4865235  2022-03-06 17:37:04   \n",
       "4          762483               5     432561   4186489  2021-08-06 11:33:12   \n",
       "\n",
       "   product_price  \n",
       "0         1410.0  \n",
       "1          800.0  \n",
       "2          800.0  \n",
       "3         1616.0  \n",
       "4          840.0  "
      ]
     },
     "execution_count": 6,
     "metadata": {},
     "output_type": "execute_result"
    }
   ],
   "source": [
    "%%sql\n",
    "SELECT *\n",
    "FROM transactions\n",
    "LIMIT 5"
   ]
  },
  {
   "cell_type": "code",
   "execution_count": 7,
   "id": "409bf896",
   "metadata": {
    "ExecuteTime": {
     "end_time": "2022-10-25T14:34:36.329451Z",
     "start_time": "2022-10-25T14:34:36.318342Z"
    }
   },
   "outputs": [
    {
     "name": "stdout",
     "output_type": "stream",
     "text": [
      "Done.\n"
     ]
    },
    {
     "data": {
      "text/html": [
       "<div>\n",
       "<style scoped>\n",
       "    .dataframe tbody tr th:only-of-type {\n",
       "        vertical-align: middle;\n",
       "    }\n",
       "\n",
       "    .dataframe tbody tr th {\n",
       "        vertical-align: top;\n",
       "    }\n",
       "\n",
       "    .dataframe thead th {\n",
       "        text-align: right;\n",
       "    }\n",
       "</style>\n",
       "<table border=\"1\" class=\"dataframe\">\n",
       "  <thead>\n",
       "    <tr style=\"text-align: right;\">\n",
       "      <th></th>\n",
       "      <th>user_id</th>\n",
       "      <th>register_date</th>\n",
       "    </tr>\n",
       "  </thead>\n",
       "  <tbody>\n",
       "    <tr>\n",
       "      <th>0</th>\n",
       "      <td>5042412</td>\n",
       "      <td>2022-03-01 21:26:27</td>\n",
       "    </tr>\n",
       "    <tr>\n",
       "      <th>1</th>\n",
       "      <td>707930</td>\n",
       "      <td>2020-09-29 08:33:26</td>\n",
       "    </tr>\n",
       "    <tr>\n",
       "      <th>2</th>\n",
       "      <td>5283835</td>\n",
       "      <td>2022-06-23 11:18:09</td>\n",
       "    </tr>\n",
       "    <tr>\n",
       "      <th>3</th>\n",
       "      <td>4195678</td>\n",
       "      <td>2021-02-24 22:12:15</td>\n",
       "    </tr>\n",
       "    <tr>\n",
       "      <th>4</th>\n",
       "      <td>5370530</td>\n",
       "      <td>2022-08-29 13:53:33</td>\n",
       "    </tr>\n",
       "  </tbody>\n",
       "</table>\n",
       "</div>"
      ],
      "text/plain": [
       "   user_id        register_date\n",
       "0  5042412  2022-03-01 21:26:27\n",
       "1   707930  2020-09-29 08:33:26\n",
       "2  5283835  2022-06-23 11:18:09\n",
       "3  4195678  2021-02-24 22:12:15\n",
       "4  5370530  2022-08-29 13:53:33"
      ]
     },
     "execution_count": 7,
     "metadata": {},
     "output_type": "execute_result"
    }
   ],
   "source": [
    "%%sql\n",
    "SELECT *\n",
    "FROM users\n",
    "LIMIT 5"
   ]
  },
  {
   "cell_type": "markdown",
   "id": "0773f2dc",
   "metadata": {},
   "source": [
    "## Preguntas"
   ]
  },
  {
   "cell_type": "markdown",
   "id": "192250ca",
   "metadata": {},
   "source": [
    "### Agregaciones simples"
   ]
  },
  {
   "cell_type": "markdown",
   "id": "a7e086de",
   "metadata": {},
   "source": [
    "#### Qué procentaje de usuarias registradas han comprado al menos un producto?"
   ]
  },
  {
   "cell_type": "markdown",
   "id": "09d23151",
   "metadata": {
    "ExecuteTime": {
     "end_time": "2022-10-25T13:51:58.505277Z",
     "start_time": "2022-10-25T13:48:53.081051Z"
    }
   },
   "source": [
    "#### Qué procentaje de compradoras no están registradas?"
   ]
  },
  {
   "cell_type": "code",
   "execution_count": 8,
   "id": "1a0ed757",
   "metadata": {},
   "outputs": [
    {
     "name": "stdout",
     "output_type": "stream",
     "text": [
      "Done.\n",
      "Returning data to local variable buyer_transactions\n"
     ]
    }
   ],
   "source": [
    "%%sql buyer_transactions <<\n",
    "SELECT user_id, COUNT(DISTINCT transaction_id) AS transactions\n",
    "FROM users u \n",
    "LEFT JOIN transactions t \n",
    "ON u.user_id = t.buyer_id\n",
    "GROUP BY user_id"
   ]
  },
  {
   "cell_type": "code",
   "execution_count": 9,
   "id": "e9c6a56c-b1cd-4390-922e-f33dfe7db450",
   "metadata": {
    "tags": []
   },
   "outputs": [
    {
     "data": {
      "text/plain": [
       "0.9946666666666666"
      ]
     },
     "execution_count": 9,
     "metadata": {},
     "output_type": "execute_result"
    }
   ],
   "source": [
    "buyer_transactions['transactions'] = list(map(lambda x: 1 if x> 0 else 0, buyer_transactions['transactions']))\n",
    "buyer_transactions['transactions'].mean()*100"
   ]
  },
  {
   "cell_type": "code",
   "execution_count": 10,
   "id": "1963db09-c7f1-4066-be77-b77f5df48177",
   "metadata": {},
   "outputs": [
    {
     "name": "stdout",
     "output_type": "stream",
     "text": [
      "(sqlite3.OperationalError) RIGHT and FULL OUTER JOINs are not currently supported\n",
      "[SQL: SELECT buyer_id, COUNT(DISTINCT register_date) AS registered\n",
      "FROM users u \n",
      "RIGHT JOIN transactions t \n",
      "ON u.user_id = t.buyer_id\n",
      "GROUP BY buyer_id]\n",
      "(Background on this error at: https://sqlalche.me/e/14/e3q8)\n"
     ]
    }
   ],
   "source": [
    "%%sql buyers_registered <<\n",
    "SELECT buyer_id, COUNT(DISTINCT register_date) AS registered\n",
    "FROM users u \n",
    "RIGHT JOIN transactions t \n",
    "ON u.user_id = t.buyer_id\n",
    "GROUP BY buyer_id"
   ]
  },
  {
   "cell_type": "markdown",
   "id": "66cc4b71",
   "metadata": {},
   "source": [
    "### Retención externa"
   ]
  },
  {
   "cell_type": "markdown",
   "id": "b13a9b48",
   "metadata": {
    "ExecuteTime": {
     "end_time": "2022-10-25T13:54:29.764806Z",
     "start_time": "2022-10-25T13:54:29.760865Z"
    }
   },
   "source": [
    "#### Qué procentaje de usuarias han comprado al menos un producto el mes en el que se registró?"
   ]
  },
  {
   "cell_type": "code",
   "execution_count": 12,
   "id": "201e4aa6",
   "metadata": {},
   "outputs": [
    {
     "name": "stdout",
     "output_type": "stream",
     "text": [
      "Done.\n",
      "Returning data to local variable test\n"
     ]
    }
   ],
   "source": [
    "%%sql test <<\n",
    "SELECT\n",
    "    user_id,\n",
    "    strftime('%Y-%m-01', register_date) AS resgister_month,\n",
    "    strftime('%Y-%m-01', transaction_date) AS transaction_month,\n",
    "    strftime('%Y-%m-01', transaction_date) - strftime('%Y-%m-01', register_date) AS datediff\n",
    "FROM users u\n",
    "LEFT JOIN transactions t\n",
    "ON u.user_id = t.buyer_id\n",
    "WHERE transaction_id IS NOT NULL"
   ]
  },
  {
   "cell_type": "code",
   "execution_count": 13,
   "id": "09383e78-b9bb-4829-8e1f-424b87a9119f",
   "metadata": {},
   "outputs": [
    {
     "data": {
      "text/html": [
       "<div>\n",
       "<style scoped>\n",
       "    .dataframe tbody tr th:only-of-type {\n",
       "        vertical-align: middle;\n",
       "    }\n",
       "\n",
       "    .dataframe tbody tr th {\n",
       "        vertical-align: top;\n",
       "    }\n",
       "\n",
       "    .dataframe thead th {\n",
       "        text-align: right;\n",
       "    }\n",
       "</style>\n",
       "<table border=\"1\" class=\"dataframe\">\n",
       "  <thead>\n",
       "    <tr style=\"text-align: right;\">\n",
       "      <th></th>\n",
       "      <th>user_id</th>\n",
       "      <th>resgister_month</th>\n",
       "      <th>transaction_month</th>\n",
       "      <th>datediff</th>\n",
       "    </tr>\n",
       "  </thead>\n",
       "  <tbody>\n",
       "    <tr>\n",
       "      <th>0</th>\n",
       "      <td>5007941</td>\n",
       "      <td>2022-02-01</td>\n",
       "      <td>2022-05-01</td>\n",
       "      <td>0</td>\n",
       "    </tr>\n",
       "    <tr>\n",
       "      <th>1</th>\n",
       "      <td>4634379</td>\n",
       "      <td>2021-09-01</td>\n",
       "      <td>2021-09-01</td>\n",
       "      <td>0</td>\n",
       "    </tr>\n",
       "    <tr>\n",
       "      <th>2</th>\n",
       "      <td>5106839</td>\n",
       "      <td>2022-03-01</td>\n",
       "      <td>2022-04-01</td>\n",
       "      <td>0</td>\n",
       "    </tr>\n",
       "    <tr>\n",
       "      <th>3</th>\n",
       "      <td>4030474</td>\n",
       "      <td>2020-11-01</td>\n",
       "      <td>2021-03-01</td>\n",
       "      <td>1</td>\n",
       "    </tr>\n",
       "    <tr>\n",
       "      <th>4</th>\n",
       "      <td>4860976</td>\n",
       "      <td>2021-12-01</td>\n",
       "      <td>2022-09-01</td>\n",
       "      <td>1</td>\n",
       "    </tr>\n",
       "    <tr>\n",
       "      <th>...</th>\n",
       "      <td>...</td>\n",
       "      <td>...</td>\n",
       "      <td>...</td>\n",
       "      <td>...</td>\n",
       "    </tr>\n",
       "    <tr>\n",
       "      <th>1357</th>\n",
       "      <td>691573</td>\n",
       "      <td>2020-09-01</td>\n",
       "      <td>2021-08-01</td>\n",
       "      <td>1</td>\n",
       "    </tr>\n",
       "    <tr>\n",
       "      <th>1358</th>\n",
       "      <td>4071450</td>\n",
       "      <td>2020-12-01</td>\n",
       "      <td>2021-03-01</td>\n",
       "      <td>1</td>\n",
       "    </tr>\n",
       "    <tr>\n",
       "      <th>1359</th>\n",
       "      <td>4003160</td>\n",
       "      <td>2020-10-01</td>\n",
       "      <td>2021-12-01</td>\n",
       "      <td>1</td>\n",
       "    </tr>\n",
       "    <tr>\n",
       "      <th>1360</th>\n",
       "      <td>4252587</td>\n",
       "      <td>2021-03-01</td>\n",
       "      <td>2021-03-01</td>\n",
       "      <td>0</td>\n",
       "    </tr>\n",
       "    <tr>\n",
       "      <th>1361</th>\n",
       "      <td>4964861</td>\n",
       "      <td>2022-02-01</td>\n",
       "      <td>2022-02-01</td>\n",
       "      <td>0</td>\n",
       "    </tr>\n",
       "  </tbody>\n",
       "</table>\n",
       "<p>1362 rows × 4 columns</p>\n",
       "</div>"
      ],
      "text/plain": [
       "      user_id resgister_month transaction_month  datediff\n",
       "0     5007941      2022-02-01        2022-05-01         0\n",
       "1     4634379      2021-09-01        2021-09-01         0\n",
       "2     5106839      2022-03-01        2022-04-01         0\n",
       "3     4030474      2020-11-01        2021-03-01         1\n",
       "4     4860976      2021-12-01        2022-09-01         1\n",
       "...       ...             ...               ...       ...\n",
       "1357   691573      2020-09-01        2021-08-01         1\n",
       "1358  4071450      2020-12-01        2021-03-01         1\n",
       "1359  4003160      2020-10-01        2021-12-01         1\n",
       "1360  4252587      2021-03-01        2021-03-01         0\n",
       "1361  4964861      2022-02-01        2022-02-01         0\n",
       "\n",
       "[1362 rows x 4 columns]"
      ]
     },
     "execution_count": 13,
     "metadata": {},
     "output_type": "execute_result"
    }
   ],
   "source": [
    "test"
   ]
  },
  {
   "cell_type": "code",
   "execution_count": null,
   "id": "c7312628-f51a-44bb-a7fa-3b80d757ae5d",
   "metadata": {},
   "outputs": [],
   "source": [
    "test[test['resgister_month'] == test['transaction_month']"
   ]
  },
  {
   "cell_type": "markdown",
   "id": "c657ba04",
   "metadata": {},
   "source": [
    "#### Cual fue el mes en el que las usuarias que se registraron convirtieron mejor a sellers? (Vendieron más items). Se mantuvo esta tendencia?"
   ]
  },
  {
   "cell_type": "code",
   "execution_count": null,
   "id": "85a3b4f3",
   "metadata": {},
   "outputs": [],
   "source": []
  },
  {
   "cell_type": "markdown",
   "id": "83013734",
   "metadata": {},
   "source": [
    "### Retención interna"
   ]
  },
  {
   "cell_type": "markdown",
   "id": "2431cec6",
   "metadata": {},
   "source": [
    "#### Ha habido algún mes en el que las usuarias que compraron ese mes no volvieron a comprar el mes siguiente en mayor medida que el resto?"
   ]
  },
  {
   "cell_type": "code",
   "execution_count": null,
   "id": "41eecc8a",
   "metadata": {},
   "outputs": [],
   "source": []
  },
  {
   "cell_type": "markdown",
   "id": "09e807ad",
   "metadata": {},
   "source": [
    "#### Que porcentaje de las compras cada mes están realizadas por usuarias que nunca han comprado? Y por usuarias con más de 3 meses desde su primera compra?"
   ]
  },
  {
   "cell_type": "code",
   "execution_count": null,
   "id": "afd5d216",
   "metadata": {},
   "outputs": [],
   "source": []
  }
 ],
 "metadata": {
  "kernelspec": {
   "display_name": "Python 3 (ipykernel)",
   "language": "python",
   "name": "python3"
  },
  "language_info": {
   "codemirror_mode": {
    "name": "ipython",
    "version": 3
   },
   "file_extension": ".py",
   "mimetype": "text/x-python",
   "name": "python",
   "nbconvert_exporter": "python",
   "pygments_lexer": "ipython3",
   "version": "3.9.12"
  },
  "toc": {
   "base_numbering": 1,
   "nav_menu": {},
   "number_sections": true,
   "sideBar": true,
   "skip_h1_title": false,
   "title_cell": "Table of Contents",
   "title_sidebar": "Contents",
   "toc_cell": false,
   "toc_position": {},
   "toc_section_display": true,
   "toc_window_display": true
  }
 },
 "nbformat": 4,
 "nbformat_minor": 5
}
