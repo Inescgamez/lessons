{
 "cells": [
  {
   "cell_type": "markdown",
   "id": "bc3fea57-c56c-408c-b243-c6d159f8316a",
   "metadata": {},
   "source": [
    "# Lab | Customer Analysis Round 2\n",
    "\n",
    "For this lab, we will be using the `marketing_customer_analysis.csv` file that you can find in the `files_for_lab` folder. Check out the `files_for_lab/about.md` to get more information if you are using the Online Excel.\n",
    "\n",
    "**Note**: For the next labs we will be using the same data file. Please save the code, so that you can re-use it later in the labs following this lab.\n",
    "\n",
    "### Dealing with the data\n",
    "\n",
    "1. Show the dataframe shape.\n",
    "2. Standardize header names.\n",
    "3. Which columns are numerical?\n",
    "4. Which columns are categorical?\n",
    "5. Check and deal with `NaN` values.\n",
    "6. Datetime format - Extract the months from the dataset and store in a separate column. Then filter the data to show only the information for the first quarter , ie. January, February and March. _Hint_: If data from March does not exist, consider only January and February.\n",
    "7. BONUS: Put all the previously mentioned data transformations into a function."
   ]
  },
  {
   "cell_type": "code",
   "execution_count": null,
   "id": "287e78c8-14e3-40cc-add2-b79f3f93f12a",
   "metadata": {},
   "outputs": [],
   "source": []
  }
 ],
 "metadata": {
  "kernelspec": {
   "display_name": "Python 3 (ipykernel)",
   "language": "python",
   "name": "python3"
  },
  "language_info": {
   "codemirror_mode": {
    "name": "ipython",
    "version": 3
   },
   "file_extension": ".py",
   "mimetype": "text/x-python",
   "name": "python",
   "nbconvert_exporter": "python",
   "pygments_lexer": "ipython3",
   "version": "3.9.12"
  }
 },
 "nbformat": 4,
 "nbformat_minor": 5
}
