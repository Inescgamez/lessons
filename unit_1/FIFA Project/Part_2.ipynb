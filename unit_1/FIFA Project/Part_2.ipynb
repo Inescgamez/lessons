{
 "cells": [
  {
   "cell_type": "markdown",
   "metadata": {},
   "source": [
    "# FIFA 21 PROJECT (II)\n",
    "\n",
    "<br><br>\n",
    "\n",
    "During this afternoon session, each member of the group must write a function which:\n",
    "\n",
    "- takes a `dataframe` as input\n",
    "- perform the data cleaning operations on the assigned columns\n",
    "- return a new `cleaned dataframe`.\n",
    "\n",
    "Then put all you group member functions into the `group jupyter notebook`.\n",
    "\n",
    "### BONUS\n",
    "\n",
    "Try to create a new function called `preprocess` which\"\n",
    "\n",
    "- takes a `dataframe`as input\n",
    "- call all the other group member functions and apply them to the starting dataframe\n",
    "- return a `clean dataframe`."
   ]
  },
  {
   "cell_type": "code",
   "execution_count": 2,
   "metadata": {},
   "outputs": [],
   "source": [
    "import pandas as pd\n",
    "import numpy as np"
   ]
  },
  {
   "cell_type": "code",
   "execution_count": 5,
   "metadata": {},
   "outputs": [
    {
     "ename": "TypeError",
     "evalue": "pipe() missing 1 required positional argument: 'func'",
     "output_type": "error",
     "traceback": [
      "\u001b[1;31m---------------------------------------------------------------------------\u001b[0m",
      "\u001b[1;31mTypeError\u001b[0m                                 Traceback (most recent call last)",
      "Input \u001b[1;32mIn [5]\u001b[0m, in \u001b[0;36m<cell line: 13>\u001b[1;34m()\u001b[0m\n\u001b[0;32m      9\u001b[0m     \u001b[38;5;28;01mreturn\u001b[39;00m df\n\u001b[0;32m     11\u001b[0m df \u001b[38;5;241m=\u001b[39m pd\u001b[38;5;241m.\u001b[39mDataFrame\n\u001b[1;32m---> 13\u001b[0m df \u001b[38;5;241m=\u001b[39m df(\u001b[43mdf\u001b[49m\u001b[38;5;241;43m.\u001b[39;49m\u001b[43mpipe\u001b[49m\u001b[43m \u001b[49m\u001b[43m(\u001b[49m\u001b[43mcolumnas_bien_limpitas\u001b[49m\u001b[43m)\u001b[49m)\n\u001b[0;32m     15\u001b[0m \u001b[38;5;28mprint\u001b[39m(df)\n",
      "\u001b[1;31mTypeError\u001b[0m: pipe() missing 1 required positional argument: 'func'"
     ]
    }
   ],
   "source": [
    "def columnas_bien_limpitas(df) :\n",
    "    data.columns=[e.lower().replace(' ', '_') for e in data.columns]\n",
    "    df.columns = [e.str.split('[ + ]', expand=True)for e in df.columns]\n",
    "    df.columns = [e.str.split('[ ★ ]', expand=True)for e in df.columns]\n",
    "    float (c.split('\\'')[0]) * 12 + float(c.split('\\'')[1][:-1])\n",
    "    data.columns = [col.replace(\"lbs\", \"\") for col in data.columns]\n",
    "    df = df.fillna(0)\n",
    "    data = data.drop_duplicates()\n",
    "    return df\n",
    "\n",
    "df = pd.DataFrame\n",
    "\n",
    "df_final = df(df.pipe (columnas_bien_limpitas))\n",
    "\n",
    "print(df_final)"
   ]
  },
  {
   "cell_type": "code",
   "execution_count": null,
   "metadata": {},
   "outputs": [],
   "source": []
  },
  {
   "cell_type": "code",
   "execution_count": null,
   "metadata": {},
   "outputs": [],
   "source": []
  }
 ],
 "metadata": {
  "kernelspec": {
   "display_name": "Python 3 (ipykernel)",
   "language": "python",
   "name": "python3"
  },
  "language_info": {
   "codemirror_mode": {
    "name": "ipython",
    "version": 3
   },
   "file_extension": ".py",
   "mimetype": "text/x-python",
   "name": "python",
   "nbconvert_exporter": "python",
   "pygments_lexer": "ipython3",
   "version": "3.9.12"
  }
 },
 "nbformat": 4,
 "nbformat_minor": 4
}
