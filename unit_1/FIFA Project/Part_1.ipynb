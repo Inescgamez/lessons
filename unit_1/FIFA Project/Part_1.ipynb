{
 "cells": [
  {
   "cell_type": "markdown",
   "metadata": {
    "tags": []
   },
   "source": [
    "# FIFA 21 IRONHACK COMPETITION\n",
    "\n",
    "# PART (I)\n",
    "\n",
    "**Link to repo: https://github.com/ironhack-edu/data_project_FIFA_21**\n",
    "\n",
    "\n",
    "You will use the fifa21_trainning.csv dataset provided to predict the position ('OVA') of each player. The competition will take place from monday morning to tuesday. \n",
    "<br><br>\n",
    "Your model will be saved in a pickle file.\n",
    "<br><br>\n",
    "The ranking of the competitors will be calculated according to the highest Mean Average Error (MAE), rounded to 2 decimals.\n",
    "<br><br>\n",
    "Ties will be broken using, respectively: R2 Score (rounded to 2 decimals), Root Mean Squared Error (rounded to 2 decimals), time to run the code (using timeit)\n",
    "<br>\n",
    "\n",
    "## DELIVERABLES:\n",
    "\n",
    "Your group should deliver a `group Jupyter notebook` with all the preprocessing functions alongside with the model.\n",
    "\n",
    "Everything must be delivered until 12am on Tuesday. \n",
    "<br><br>\n",
    "Be prepared to share your work on Tuesday morning, the best scores will have the opportunity to show their notebook and go through their pipeline (~10 min).\n",
    "<br><br>\n",
    "\n",
    "To deliver:\n",
    "* A notebook with your work and model (group_number.ipynb);\n",
    "* Pickle file with the model (group_number.pkl). \n",
    "<br><br>\n",
    "\n",
    "The instructor will use your `group Jupyter notebook` to load a new dataset and use your functions and\n",
    "your model to make a prediction in unseen data.\n",
    "\n",
    "\n",
    "<br><br>\n",
    "\n",
    "For this small project you are going to work in groups to put in practice some of the concepts of the previous week.\n",
    "\n",
    "With your group mates, open the file in `file_for_project/fifa21_training.csv`. The objective is to create the best linear model to predict the column `OVA`.\n",
    "\n",
    "You can find some documentation about the meaning of each column in the following links:\n",
    "\n",
    "- [link - 0](https://sofifa.com/)\n",
    "- [link - 1](https://gaming.stackexchange.com/questions/167318/what-do-fifa-14-position-acronyms-mean)\n",
    "- [link - 2](https://www.fifauteam.com/fifa-ultimate-team-positions-and-tactics/)\n",
    "\n",
    "### 1\n",
    "\n",
    "Each member of the team should have his/her own _juypter_ notebook. In addition, each group should have a `group jupyter notebook`.\n",
    "\n",
    "### 2\n",
    "\n",
    "Decide which columns can be predictive and which ones can be directly dropped and take the needed actions.\n",
    "\n",
    "### 3\n",
    "\n",
    "Decide among the members of the group who is going to take care of inspecting the remaining columns\n",
    "of the dataset. For example:\n",
    "Member 1: cols 1 -> 5\n",
    "Member 2: cols 6 -> 10\n",
    "...\n",
    "and so on\n",
    "\n",
    "### 4\n",
    "\n",
    "Each member must do:\n",
    "\n",
    "- Explore their assigned columns and write python code to perform any cleanup operation that the assigned columns may need.\n",
    "- Perform any scaling operation that the assigned column may need.\n",
    "\n",
    "### 5\n",
    "\n",
    "Put all the code of each member into the `group jupyter notebook`."
   ]
  },
  {
   "cell_type": "markdown",
   "metadata": {},
   "source": [
    "#### LIMPIEZA GENERAL"
   ]
  },
  {
   "cell_type": "code",
   "execution_count": 139,
   "metadata": {},
   "outputs": [],
   "source": [
    "import pandas as pd\n",
    "import numpy as np"
   ]
  },
  {
   "cell_type": "code",
   "execution_count": 140,
   "metadata": {},
   "outputs": [],
   "source": [
    "data = pd.read_csv(\"./file_for_project/fifa21_training.csv\")"
   ]
  },
  {
   "cell_type": "code",
   "execution_count": 141,
   "metadata": {},
   "outputs": [
    {
     "data": {
      "text/plain": [
       "['Unnamed: 0',\n",
       " 'ID',\n",
       " 'Name',\n",
       " 'Age',\n",
       " 'Nationality',\n",
       " 'Club',\n",
       " 'BP',\n",
       " 'Position',\n",
       " 'Team & Contract',\n",
       " 'Height',\n",
       " 'Weight',\n",
       " 'foot',\n",
       " 'Growth',\n",
       " 'Joined',\n",
       " 'Loan Date End',\n",
       " 'Value',\n",
       " 'Wage',\n",
       " 'Release Clause',\n",
       " 'Contract',\n",
       " 'Attacking',\n",
       " 'Crossing',\n",
       " 'Finishing',\n",
       " 'Heading Accuracy',\n",
       " 'Short Passing',\n",
       " 'Volleys',\n",
       " 'Skill',\n",
       " 'Dribbling',\n",
       " 'Curve',\n",
       " 'FK Accuracy',\n",
       " 'Long Passing',\n",
       " 'Ball Control',\n",
       " 'Movement',\n",
       " 'Acceleration',\n",
       " 'Sprint Speed',\n",
       " 'Agility',\n",
       " 'Reactions',\n",
       " 'Balance',\n",
       " 'Power',\n",
       " 'Shot Power',\n",
       " 'Jumping',\n",
       " 'Stamina',\n",
       " 'Strength',\n",
       " 'Long Shots',\n",
       " 'Mentality',\n",
       " 'Aggression',\n",
       " 'Interceptions',\n",
       " 'Positioning',\n",
       " 'Vision',\n",
       " 'Penalties',\n",
       " 'Composure',\n",
       " 'Defending',\n",
       " 'Marking',\n",
       " 'Standing Tackle',\n",
       " 'Sliding Tackle',\n",
       " 'Goalkeeping',\n",
       " 'GK Diving',\n",
       " 'GK Handling',\n",
       " 'GK Kicking',\n",
       " 'GK Positioning',\n",
       " 'GK Reflexes',\n",
       " 'Total Stats',\n",
       " 'Base Stats',\n",
       " 'W/F',\n",
       " 'SM',\n",
       " 'A/W',\n",
       " 'D/W',\n",
       " 'IR',\n",
       " 'PAC',\n",
       " 'SHO',\n",
       " 'PAS',\n",
       " 'DRI',\n",
       " 'DEF',\n",
       " 'PHY',\n",
       " 'Hits',\n",
       " 'LS',\n",
       " 'ST',\n",
       " 'RS',\n",
       " 'LW',\n",
       " 'LF',\n",
       " 'CF',\n",
       " 'RF',\n",
       " 'RW',\n",
       " 'LAM',\n",
       " 'CAM',\n",
       " 'RAM',\n",
       " 'LM',\n",
       " 'LCM',\n",
       " 'CM',\n",
       " 'RCM',\n",
       " 'RM',\n",
       " 'LWB',\n",
       " 'LDM',\n",
       " 'CDM',\n",
       " 'RDM',\n",
       " 'RWB',\n",
       " 'LB',\n",
       " 'LCB',\n",
       " 'CB',\n",
       " 'RCB',\n",
       " 'RB',\n",
       " 'GK',\n",
       " 'OVA']"
      ]
     },
     "execution_count": 141,
     "metadata": {},
     "output_type": "execute_result"
    }
   ],
   "source": [
    "list (data.columns)"
   ]
  },
  {
   "cell_type": "code",
   "execution_count": 142,
   "metadata": {},
   "outputs": [
    {
     "data": {
      "text/plain": [
       "['unnamed:_0',\n",
       " 'id',\n",
       " 'name',\n",
       " 'age',\n",
       " 'nationality',\n",
       " 'club',\n",
       " 'bp',\n",
       " 'position',\n",
       " 'team_&_contract',\n",
       " 'height',\n",
       " 'weight',\n",
       " 'foot',\n",
       " 'growth',\n",
       " 'joined',\n",
       " 'loan_date_end',\n",
       " 'value',\n",
       " 'wage',\n",
       " 'release_clause',\n",
       " 'contract',\n",
       " 'attacking',\n",
       " 'crossing',\n",
       " 'finishing',\n",
       " 'heading_accuracy',\n",
       " 'short_passing',\n",
       " 'volleys',\n",
       " 'skill',\n",
       " 'dribbling',\n",
       " 'curve',\n",
       " 'fk_accuracy',\n",
       " 'long_passing',\n",
       " 'ball_control',\n",
       " 'movement',\n",
       " 'acceleration',\n",
       " 'sprint_speed',\n",
       " 'agility',\n",
       " 'reactions',\n",
       " 'balance',\n",
       " 'power',\n",
       " 'shot_power',\n",
       " 'jumping',\n",
       " 'stamina',\n",
       " 'strength',\n",
       " 'long_shots',\n",
       " 'mentality',\n",
       " 'aggression',\n",
       " 'interceptions',\n",
       " 'positioning',\n",
       " 'vision',\n",
       " 'penalties',\n",
       " 'composure',\n",
       " 'defending',\n",
       " 'marking',\n",
       " 'standing_tackle',\n",
       " 'sliding_tackle',\n",
       " 'goalkeeping',\n",
       " 'gk_diving',\n",
       " 'gk_handling',\n",
       " 'gk_kicking',\n",
       " 'gk_positioning',\n",
       " 'gk_reflexes',\n",
       " 'total_stats',\n",
       " 'base_stats',\n",
       " 'w/f',\n",
       " 'sm',\n",
       " 'a/w',\n",
       " 'd/w',\n",
       " 'ir',\n",
       " 'pac',\n",
       " 'sho',\n",
       " 'pas',\n",
       " 'dri',\n",
       " 'def',\n",
       " 'phy',\n",
       " 'hits',\n",
       " 'ls',\n",
       " 'st',\n",
       " 'rs',\n",
       " 'lw',\n",
       " 'lf',\n",
       " 'cf',\n",
       " 'rf',\n",
       " 'rw',\n",
       " 'lam',\n",
       " 'cam',\n",
       " 'ram',\n",
       " 'lm',\n",
       " 'lcm',\n",
       " 'cm',\n",
       " 'rcm',\n",
       " 'rm',\n",
       " 'lwb',\n",
       " 'ldm',\n",
       " 'cdm',\n",
       " 'rdm',\n",
       " 'rwb',\n",
       " 'lb',\n",
       " 'lcb',\n",
       " 'cb',\n",
       " 'rcb',\n",
       " 'rb',\n",
       " 'gk',\n",
       " 'ova']"
      ]
     },
     "execution_count": 142,
     "metadata": {},
     "output_type": "execute_result"
    }
   ],
   "source": [
    "data.columns=[e.lower().replace(' ', '_') for e in data.columns]\n",
    "list(data.columns)"
   ]
  },
  {
   "cell_type": "code",
   "execution_count": 143,
   "metadata": {},
   "outputs": [
    {
     "data": {
      "text/html": [
       "<div>\n",
       "<style scoped>\n",
       "    .dataframe tbody tr th:only-of-type {\n",
       "        vertical-align: middle;\n",
       "    }\n",
       "\n",
       "    .dataframe tbody tr th {\n",
       "        vertical-align: top;\n",
       "    }\n",
       "\n",
       "    .dataframe thead th {\n",
       "        text-align: right;\n",
       "    }\n",
       "</style>\n",
       "<table border=\"1\" class=\"dataframe\">\n",
       "  <thead>\n",
       "    <tr style=\"text-align: right;\">\n",
       "      <th></th>\n",
       "      <th>unnamed:_0</th>\n",
       "      <th>id</th>\n",
       "      <th>name</th>\n",
       "      <th>age</th>\n",
       "      <th>nationality</th>\n",
       "      <th>club</th>\n",
       "      <th>bp</th>\n",
       "      <th>position</th>\n",
       "      <th>team_&amp;_contract</th>\n",
       "      <th>height</th>\n",
       "      <th>...</th>\n",
       "      <th>cdm</th>\n",
       "      <th>rdm</th>\n",
       "      <th>rwb</th>\n",
       "      <th>lb</th>\n",
       "      <th>lcb</th>\n",
       "      <th>cb</th>\n",
       "      <th>rcb</th>\n",
       "      <th>rb</th>\n",
       "      <th>gk</th>\n",
       "      <th>ova</th>\n",
       "    </tr>\n",
       "  </thead>\n",
       "  <tbody>\n",
       "    <tr>\n",
       "      <th>0</th>\n",
       "      <td>1954</td>\n",
       "      <td>184383</td>\n",
       "      <td>A. Pasche</td>\n",
       "      <td>26</td>\n",
       "      <td>Switzerland</td>\n",
       "      <td>FC Lausanne-Sport</td>\n",
       "      <td>CM</td>\n",
       "      <td>CM CDM</td>\n",
       "      <td>FC Lausanne-Sport 2015 ~ 2020</td>\n",
       "      <td>5'9\"</td>\n",
       "      <td>...</td>\n",
       "      <td>59+1</td>\n",
       "      <td>59+1</td>\n",
       "      <td>59+1</td>\n",
       "      <td>58+1</td>\n",
       "      <td>54+1</td>\n",
       "      <td>54+1</td>\n",
       "      <td>54+1</td>\n",
       "      <td>58+1</td>\n",
       "      <td>15+1</td>\n",
       "      <td>64</td>\n",
       "    </tr>\n",
       "    <tr>\n",
       "      <th>1</th>\n",
       "      <td>2225</td>\n",
       "      <td>188044</td>\n",
       "      <td>Alan Carvalho</td>\n",
       "      <td>30</td>\n",
       "      <td>China PR</td>\n",
       "      <td>Beijing Sinobo Guoan FC</td>\n",
       "      <td>ST</td>\n",
       "      <td>ST LW LM</td>\n",
       "      <td>Beijing Sinobo Guoan FC Dec 31, 2020 On Loan</td>\n",
       "      <td>6'0\"</td>\n",
       "      <td>...</td>\n",
       "      <td>53+2</td>\n",
       "      <td>53+2</td>\n",
       "      <td>57+2</td>\n",
       "      <td>53+2</td>\n",
       "      <td>48+2</td>\n",
       "      <td>48+2</td>\n",
       "      <td>48+2</td>\n",
       "      <td>53+2</td>\n",
       "      <td>18+2</td>\n",
       "      <td>77</td>\n",
       "    </tr>\n",
       "  </tbody>\n",
       "</table>\n",
       "<p>2 rows × 102 columns</p>\n",
       "</div>"
      ],
      "text/plain": [
       "   unnamed:_0      id           name  age  nationality  \\\n",
       "0        1954  184383      A. Pasche   26  Switzerland   \n",
       "1        2225  188044  Alan Carvalho   30     China PR   \n",
       "\n",
       "                      club  bp  position  \\\n",
       "0        FC Lausanne-Sport  CM    CM CDM   \n",
       "1  Beijing Sinobo Guoan FC  ST  ST LW LM   \n",
       "\n",
       "                                team_&_contract height  ...   cdm   rdm   rwb  \\\n",
       "0                 FC Lausanne-Sport 2015 ~ 2020   5'9\"  ...  59+1  59+1  59+1   \n",
       "1  Beijing Sinobo Guoan FC Dec 31, 2020 On Loan   6'0\"  ...  53+2  53+2  57+2   \n",
       "\n",
       "     lb   lcb    cb   rcb    rb    gk  ova  \n",
       "0  58+1  54+1  54+1  54+1  58+1  15+1   64  \n",
       "1  53+2  48+2  48+2  48+2  53+2  18+2   77  \n",
       "\n",
       "[2 rows x 102 columns]"
      ]
     },
     "execution_count": 143,
     "metadata": {},
     "output_type": "execute_result"
    }
   ],
   "source": [
    "data.head(2)"
   ]
  },
  {
   "cell_type": "code",
   "execution_count": 144,
   "metadata": {},
   "outputs": [
    {
     "data": {
      "text/plain": [
       "Index(['unnamed:_0', 'id', 'age', 'growth', 'attacking', 'crossing',\n",
       "       'finishing', 'heading_accuracy', 'short_passing', 'volleys', 'skill',\n",
       "       'dribbling', 'curve', 'fk_accuracy', 'long_passing', 'ball_control',\n",
       "       'movement', 'acceleration', 'sprint_speed', 'agility', 'reactions',\n",
       "       'balance', 'power', 'shot_power', 'jumping', 'stamina', 'strength',\n",
       "       'long_shots', 'mentality', 'aggression', 'interceptions', 'positioning',\n",
       "       'vision', 'penalties', 'composure', 'defending', 'marking',\n",
       "       'standing_tackle', 'sliding_tackle', 'goalkeeping', 'gk_diving',\n",
       "       'gk_handling', 'gk_kicking', 'gk_positioning', 'gk_reflexes',\n",
       "       'total_stats', 'base_stats', 'pac', 'sho', 'pas', 'dri', 'def', 'phy',\n",
       "       'ova'],\n",
       "      dtype='object')"
      ]
     },
     "execution_count": 144,
     "metadata": {},
     "output_type": "execute_result"
    }
   ],
   "source": [
    "data._get_numeric_data().columns"
   ]
  },
  {
   "cell_type": "code",
   "execution_count": 145,
   "metadata": {},
   "outputs": [
    {
     "data": {
      "text/plain": [
       "Index(['name', 'nationality', 'club', 'bp', 'position', 'team_&_contract',\n",
       "       'height', 'weight', 'foot', 'joined', 'loan_date_end', 'value', 'wage',\n",
       "       'release_clause', 'contract', 'w/f', 'sm', 'a/w', 'd/w', 'ir', 'hits',\n",
       "       'ls', 'st', 'rs', 'lw', 'lf', 'cf', 'rf', 'rw', 'lam', 'cam', 'ram',\n",
       "       'lm', 'lcm', 'cm', 'rcm', 'rm', 'lwb', 'ldm', 'cdm', 'rdm', 'rwb', 'lb',\n",
       "       'lcb', 'cb', 'rcb', 'rb', 'gk'],\n",
       "      dtype='object')"
      ]
     },
     "execution_count": 145,
     "metadata": {},
     "output_type": "execute_result"
    }
   ],
   "source": [
    "data.select_dtypes(object).columns"
   ]
  },
  {
   "cell_type": "markdown",
   "metadata": {},
   "source": [
    "#### Lista de cambios a hacer\n",
    "1. Arreglar aquellas columnas con sumas y estrellas\n",
    "2. Eliminar las unidades de medida en: altura y peso \n",
    "3. Cambiar los Nuns por la media\n",
    "4. Eliminar los valores duplicados"
   ]
  },
  {
   "cell_type": "markdown",
   "metadata": {},
   "source": [
    "#### SUMAS"
   ]
  },
  {
   "cell_type": "code",
   "execution_count": 146,
   "metadata": {},
   "outputs": [],
   "source": [
    "def sep_columns(df) :\n",
    "    df.columns = [e.str.split('[ + ]', expand=True)for e in df.columns]\n",
    "    return df"
   ]
  },
  {
   "cell_type": "code",
   "execution_count": 147,
   "metadata": {},
   "outputs": [],
   "source": [
    "col_sumitas = ['ls', 'st', 'rs', 'lw', 'lf', 'cf', 'rf', 'rw', 'lam', 'cam', 'ram','lm', 'lcm', 'cm', 'rcm', 'rm', 'lwb', 'ldm', 'cdm', 'rdm', 'rwb', 'lb','lcb', 'cb', 'rcb', 'rb', 'gk']"
   ]
  },
  {
   "cell_type": "code",
   "execution_count": 148,
   "metadata": {},
   "outputs": [
    {
     "ename": "AttributeError",
     "evalue": "'list' object has no attribute 'columns'",
     "output_type": "error",
     "traceback": [
      "\u001b[1;31m---------------------------------------------------------------------------\u001b[0m",
      "\u001b[1;31mAttributeError\u001b[0m                            Traceback (most recent call last)",
      "Input \u001b[1;32mIn [148]\u001b[0m, in \u001b[0;36m<cell line: 1>\u001b[1;34m()\u001b[0m\n\u001b[1;32m----> 1\u001b[0m \u001b[38;5;28mmap\u001b[39m(\u001b[43msep_columns\u001b[49m\u001b[43m(\u001b[49m\u001b[43mcol_sumitas\u001b[49m\u001b[43m)\u001b[49m)\n",
      "Input \u001b[1;32mIn [146]\u001b[0m, in \u001b[0;36msep_columns\u001b[1;34m(df)\u001b[0m\n\u001b[0;32m      1\u001b[0m \u001b[38;5;28;01mdef\u001b[39;00m \u001b[38;5;21msep_columns\u001b[39m(df) :\n\u001b[1;32m----> 2\u001b[0m     df\u001b[38;5;241m.\u001b[39mcolumns \u001b[38;5;241m=\u001b[39m [e\u001b[38;5;241m.\u001b[39mstr\u001b[38;5;241m.\u001b[39msplit(\u001b[38;5;124m'\u001b[39m\u001b[38;5;124m[ + ]\u001b[39m\u001b[38;5;124m'\u001b[39m, expand\u001b[38;5;241m=\u001b[39m\u001b[38;5;28;01mTrue\u001b[39;00m)\u001b[38;5;28;01mfor\u001b[39;00m e \u001b[38;5;129;01min\u001b[39;00m \u001b[43mdf\u001b[49m\u001b[38;5;241;43m.\u001b[39;49m\u001b[43mcolumns\u001b[49m]\n\u001b[0;32m      3\u001b[0m     \u001b[38;5;28;01mreturn\u001b[39;00m df\n",
      "\u001b[1;31mAttributeError\u001b[0m: 'list' object has no attribute 'columns'"
     ]
    }
   ],
   "source": [
    "map(sep_columns(col_sumitas))"
   ]
  },
  {
   "cell_type": "code",
   "execution_count": 170,
   "metadata": {},
   "outputs": [
    {
     "ename": "KeyError",
     "evalue": "'cdmplus'",
     "output_type": "error",
     "traceback": [
      "\u001b[1;31m---------------------------------------------------------------------------\u001b[0m",
      "\u001b[1;31mKeyError\u001b[0m                                  Traceback (most recent call last)",
      "File \u001b[1;32m~\\Anaconda3\\lib\\site-packages\\pandas\\core\\indexes\\base.py:3621\u001b[0m, in \u001b[0;36mIndex.get_loc\u001b[1;34m(self, key, method, tolerance)\u001b[0m\n\u001b[0;32m   3620\u001b[0m \u001b[38;5;28;01mtry\u001b[39;00m:\n\u001b[1;32m-> 3621\u001b[0m     \u001b[38;5;28;01mreturn\u001b[39;00m \u001b[38;5;28;43mself\u001b[39;49m\u001b[38;5;241;43m.\u001b[39;49m\u001b[43m_engine\u001b[49m\u001b[38;5;241;43m.\u001b[39;49m\u001b[43mget_loc\u001b[49m\u001b[43m(\u001b[49m\u001b[43mcasted_key\u001b[49m\u001b[43m)\u001b[49m\n\u001b[0;32m   3622\u001b[0m \u001b[38;5;28;01mexcept\u001b[39;00m \u001b[38;5;167;01mKeyError\u001b[39;00m \u001b[38;5;28;01mas\u001b[39;00m err:\n",
      "File \u001b[1;32m~\\Anaconda3\\lib\\site-packages\\pandas\\_libs\\index.pyx:136\u001b[0m, in \u001b[0;36mpandas._libs.index.IndexEngine.get_loc\u001b[1;34m()\u001b[0m\n",
      "File \u001b[1;32m~\\Anaconda3\\lib\\site-packages\\pandas\\_libs\\index.pyx:163\u001b[0m, in \u001b[0;36mpandas._libs.index.IndexEngine.get_loc\u001b[1;34m()\u001b[0m\n",
      "File \u001b[1;32mpandas\\_libs\\hashtable_class_helper.pxi:5198\u001b[0m, in \u001b[0;36mpandas._libs.hashtable.PyObjectHashTable.get_item\u001b[1;34m()\u001b[0m\n",
      "File \u001b[1;32mpandas\\_libs\\hashtable_class_helper.pxi:5206\u001b[0m, in \u001b[0;36mpandas._libs.hashtable.PyObjectHashTable.get_item\u001b[1;34m()\u001b[0m\n",
      "\u001b[1;31mKeyError\u001b[0m: 'cdmplus'",
      "\nThe above exception was the direct cause of the following exception:\n",
      "\u001b[1;31mKeyError\u001b[0m                                  Traceback (most recent call last)",
      "Input \u001b[1;32mIn [170]\u001b[0m, in \u001b[0;36m<cell line: 2>\u001b[1;34m()\u001b[0m\n\u001b[0;32m      1\u001b[0m data[\u001b[38;5;124m'\u001b[39m\u001b[38;5;124mcdm\u001b[39m\u001b[38;5;124m'\u001b[39m]\u001b[38;5;241m.\u001b[39mhead()\n\u001b[1;32m----> 2\u001b[0m \u001b[43mdata\u001b[49m\u001b[43m \u001b[49m\u001b[43m[\u001b[49m\u001b[38;5;124;43m'\u001b[39;49m\u001b[38;5;124;43mcdmplus\u001b[39;49m\u001b[38;5;124;43m'\u001b[39;49m\u001b[43m]\u001b[49m\u001b[38;5;241m.\u001b[39mhead()\n",
      "File \u001b[1;32m~\\Anaconda3\\lib\\site-packages\\pandas\\core\\frame.py:3505\u001b[0m, in \u001b[0;36mDataFrame.__getitem__\u001b[1;34m(self, key)\u001b[0m\n\u001b[0;32m   3503\u001b[0m \u001b[38;5;28;01mif\u001b[39;00m \u001b[38;5;28mself\u001b[39m\u001b[38;5;241m.\u001b[39mcolumns\u001b[38;5;241m.\u001b[39mnlevels \u001b[38;5;241m>\u001b[39m \u001b[38;5;241m1\u001b[39m:\n\u001b[0;32m   3504\u001b[0m     \u001b[38;5;28;01mreturn\u001b[39;00m \u001b[38;5;28mself\u001b[39m\u001b[38;5;241m.\u001b[39m_getitem_multilevel(key)\n\u001b[1;32m-> 3505\u001b[0m indexer \u001b[38;5;241m=\u001b[39m \u001b[38;5;28;43mself\u001b[39;49m\u001b[38;5;241;43m.\u001b[39;49m\u001b[43mcolumns\u001b[49m\u001b[38;5;241;43m.\u001b[39;49m\u001b[43mget_loc\u001b[49m\u001b[43m(\u001b[49m\u001b[43mkey\u001b[49m\u001b[43m)\u001b[49m\n\u001b[0;32m   3506\u001b[0m \u001b[38;5;28;01mif\u001b[39;00m is_integer(indexer):\n\u001b[0;32m   3507\u001b[0m     indexer \u001b[38;5;241m=\u001b[39m [indexer]\n",
      "File \u001b[1;32m~\\Anaconda3\\lib\\site-packages\\pandas\\core\\indexes\\base.py:3623\u001b[0m, in \u001b[0;36mIndex.get_loc\u001b[1;34m(self, key, method, tolerance)\u001b[0m\n\u001b[0;32m   3621\u001b[0m     \u001b[38;5;28;01mreturn\u001b[39;00m \u001b[38;5;28mself\u001b[39m\u001b[38;5;241m.\u001b[39m_engine\u001b[38;5;241m.\u001b[39mget_loc(casted_key)\n\u001b[0;32m   3622\u001b[0m \u001b[38;5;28;01mexcept\u001b[39;00m \u001b[38;5;167;01mKeyError\u001b[39;00m \u001b[38;5;28;01mas\u001b[39;00m err:\n\u001b[1;32m-> 3623\u001b[0m     \u001b[38;5;28;01mraise\u001b[39;00m \u001b[38;5;167;01mKeyError\u001b[39;00m(key) \u001b[38;5;28;01mfrom\u001b[39;00m \u001b[38;5;21;01merr\u001b[39;00m\n\u001b[0;32m   3624\u001b[0m \u001b[38;5;28;01mexcept\u001b[39;00m \u001b[38;5;167;01mTypeError\u001b[39;00m:\n\u001b[0;32m   3625\u001b[0m     \u001b[38;5;66;03m# If we have a listlike key, _check_indexing_error will raise\u001b[39;00m\n\u001b[0;32m   3626\u001b[0m     \u001b[38;5;66;03m#  InvalidIndexError. Otherwise we fall through and re-raise\u001b[39;00m\n\u001b[0;32m   3627\u001b[0m     \u001b[38;5;66;03m#  the TypeError.\u001b[39;00m\n\u001b[0;32m   3628\u001b[0m     \u001b[38;5;28mself\u001b[39m\u001b[38;5;241m.\u001b[39m_check_indexing_error(key)\n",
      "\u001b[1;31mKeyError\u001b[0m: 'cdmplus'"
     ]
    }
   ],
   "source": [
    "data['cdm'].head()\n",
    "data ['cdmplus'].head()"
   ]
  },
  {
   "cell_type": "markdown",
   "metadata": {},
   "source": [
    "#### ESTRELLAS"
   ]
  },
  {
   "cell_type": "code",
   "execution_count": 171,
   "metadata": {},
   "outputs": [],
   "source": [
    "def converse(df) :\n",
    "    df.columns = [e.str.split('[ ★ ]', expand=True)for e in df.columns]\n",
    "    return df"
   ]
  },
  {
   "cell_type": "code",
   "execution_count": null,
   "metadata": {},
   "outputs": [],
   "source": [
    "col_sumitas = ['w/f', 'sm', 'ir']"
   ]
  },
  {
   "cell_type": "code",
   "execution_count": 172,
   "metadata": {},
   "outputs": [
    {
     "ename": "AttributeError",
     "evalue": "'list' object has no attribute 'columns'",
     "output_type": "error",
     "traceback": [
      "\u001b[1;31m---------------------------------------------------------------------------\u001b[0m",
      "\u001b[1;31mAttributeError\u001b[0m                            Traceback (most recent call last)",
      "Input \u001b[1;32mIn [172]\u001b[0m, in \u001b[0;36m<cell line: 1>\u001b[1;34m()\u001b[0m\n\u001b[1;32m----> 1\u001b[0m \u001b[38;5;28mmap\u001b[39m(\u001b[43mconverse\u001b[49m\u001b[43m(\u001b[49m\u001b[43mcol_sumitas\u001b[49m\u001b[43m)\u001b[49m)\n",
      "Input \u001b[1;32mIn [171]\u001b[0m, in \u001b[0;36mconverse\u001b[1;34m(df)\u001b[0m\n\u001b[0;32m      1\u001b[0m \u001b[38;5;28;01mdef\u001b[39;00m \u001b[38;5;21mconverse\u001b[39m(df) :\n\u001b[1;32m----> 2\u001b[0m     df\u001b[38;5;241m.\u001b[39mcolumns \u001b[38;5;241m=\u001b[39m [e\u001b[38;5;241m.\u001b[39mstr\u001b[38;5;241m.\u001b[39msplit(\u001b[38;5;124m'\u001b[39m\u001b[38;5;124m[ ★ ]\u001b[39m\u001b[38;5;124m'\u001b[39m, expand\u001b[38;5;241m=\u001b[39m\u001b[38;5;28;01mTrue\u001b[39;00m)\u001b[38;5;28;01mfor\u001b[39;00m e \u001b[38;5;129;01min\u001b[39;00m \u001b[43mdf\u001b[49m\u001b[38;5;241;43m.\u001b[39;49m\u001b[43mcolumns\u001b[49m]\n\u001b[0;32m      3\u001b[0m     \u001b[38;5;28;01mreturn\u001b[39;00m df\n",
      "\u001b[1;31mAttributeError\u001b[0m: 'list' object has no attribute 'columns'"
     ]
    }
   ],
   "source": [
    "map(converse(col_sumitas))"
   ]
  },
  {
   "cell_type": "markdown",
   "metadata": {},
   "source": [
    "#### Unidades de medida"
   ]
  },
  {
   "cell_type": "markdown",
   "metadata": {},
   "source": [
    "##### a) altura"
   ]
  },
  {
   "cell_type": "code",
   "execution_count": 150,
   "metadata": {},
   "outputs": [],
   "source": [
    "def tranform_height(c):\n",
    "    float (c.split('\\'')[0]) * 12 + float(c.split('\\'')[1][:-1])\n",
    "    return df"
   ]
  },
  {
   "cell_type": "code",
   "execution_count": 151,
   "metadata": {},
   "outputs": [
    {
     "ename": "ValueError",
     "evalue": "could not convert string to float: 'height'",
     "output_type": "error",
     "traceback": [
      "\u001b[1;31m---------------------------------------------------------------------------\u001b[0m",
      "\u001b[1;31mValueError\u001b[0m                                Traceback (most recent call last)",
      "Input \u001b[1;32mIn [151]\u001b[0m, in \u001b[0;36m<cell line: 1>\u001b[1;34m()\u001b[0m\n\u001b[1;32m----> 1\u001b[0m \u001b[38;5;28mmap\u001b[39m(\u001b[43mtranform_height\u001b[49m\u001b[43m(\u001b[49m\u001b[38;5;124;43m'\u001b[39;49m\u001b[38;5;124;43mheight\u001b[39;49m\u001b[38;5;124;43m'\u001b[39;49m\u001b[43m)\u001b[49m)\n",
      "Input \u001b[1;32mIn [150]\u001b[0m, in \u001b[0;36mtranform_height\u001b[1;34m(c)\u001b[0m\n\u001b[0;32m      1\u001b[0m \u001b[38;5;28;01mdef\u001b[39;00m \u001b[38;5;21mtranform_height\u001b[39m(c):\n\u001b[1;32m----> 2\u001b[0m     \u001b[38;5;28;43mfloat\u001b[39;49m\u001b[43m \u001b[49m\u001b[43m(\u001b[49m\u001b[43mc\u001b[49m\u001b[38;5;241;43m.\u001b[39;49m\u001b[43msplit\u001b[49m\u001b[43m(\u001b[49m\u001b[38;5;124;43m'\u001b[39;49m\u001b[38;5;130;43;01m\\'\u001b[39;49;00m\u001b[38;5;124;43m'\u001b[39;49m\u001b[43m)\u001b[49m\u001b[43m[\u001b[49m\u001b[38;5;241;43m0\u001b[39;49m\u001b[43m]\u001b[49m\u001b[43m)\u001b[49m \u001b[38;5;241m*\u001b[39m \u001b[38;5;241m12\u001b[39m \u001b[38;5;241m+\u001b[39m \u001b[38;5;28mfloat\u001b[39m(c\u001b[38;5;241m.\u001b[39msplit(\u001b[38;5;124m'\u001b[39m\u001b[38;5;130;01m\\'\u001b[39;00m\u001b[38;5;124m'\u001b[39m)[\u001b[38;5;241m1\u001b[39m][:\u001b[38;5;241m-\u001b[39m\u001b[38;5;241m1\u001b[39m])\n\u001b[0;32m      3\u001b[0m     \u001b[38;5;28;01mreturn\u001b[39;00m df\n",
      "\u001b[1;31mValueError\u001b[0m: could not convert string to float: 'height'"
     ]
    }
   ],
   "source": [
    "map(tranform_height('height'))"
   ]
  },
  {
   "cell_type": "code",
   "execution_count": 166,
   "metadata": {},
   "outputs": [
    {
     "data": {
      "text/plain": [
       "0     5'9\"\n",
       "1     6'0\"\n",
       "2     5'4\"\n",
       "3    5'10\"\n",
       "4    5'11\"\n",
       "Name: height, dtype: object"
      ]
     },
     "execution_count": 166,
     "metadata": {},
     "output_type": "execute_result"
    }
   ],
   "source": [
    "data['height'].head()"
   ]
  },
  {
   "cell_type": "markdown",
   "metadata": {},
   "source": [
    "##### b) peso"
   ]
  },
  {
   "cell_type": "code",
   "execution_count": 163,
   "metadata": {},
   "outputs": [],
   "source": [
    "def transform_weight(c):\n",
    "    data.columns = [col.replace(\"lbs\", \"\") for col in data.columns]\n",
    "    return data"
   ]
  },
  {
   "cell_type": "code",
   "execution_count": 164,
   "metadata": {},
   "outputs": [
    {
     "data": {
      "text/html": [
       "<div>\n",
       "<style scoped>\n",
       "    .dataframe tbody tr th:only-of-type {\n",
       "        vertical-align: middle;\n",
       "    }\n",
       "\n",
       "    .dataframe tbody tr th {\n",
       "        vertical-align: top;\n",
       "    }\n",
       "\n",
       "    .dataframe thead th {\n",
       "        text-align: right;\n",
       "    }\n",
       "</style>\n",
       "<table border=\"1\" class=\"dataframe\">\n",
       "  <thead>\n",
       "    <tr style=\"text-align: right;\">\n",
       "      <th></th>\n",
       "      <th>unnamed:_0</th>\n",
       "      <th>id</th>\n",
       "      <th>name</th>\n",
       "      <th>age</th>\n",
       "      <th>nationality</th>\n",
       "      <th>club</th>\n",
       "      <th>bp</th>\n",
       "      <th>position</th>\n",
       "      <th>team_&amp;_contract</th>\n",
       "      <th>height</th>\n",
       "      <th>...</th>\n",
       "      <th>cdm</th>\n",
       "      <th>rdm</th>\n",
       "      <th>rwb</th>\n",
       "      <th>lb</th>\n",
       "      <th>lcb</th>\n",
       "      <th>cb</th>\n",
       "      <th>rcb</th>\n",
       "      <th>rb</th>\n",
       "      <th>gk</th>\n",
       "      <th>ova</th>\n",
       "    </tr>\n",
       "  </thead>\n",
       "  <tbody>\n",
       "    <tr>\n",
       "      <th>0</th>\n",
       "      <td>1954</td>\n",
       "      <td>184383</td>\n",
       "      <td>A. Pasche</td>\n",
       "      <td>26</td>\n",
       "      <td>Switzerland</td>\n",
       "      <td>FC Lausanne-Sport</td>\n",
       "      <td>CM</td>\n",
       "      <td>CM CDM</td>\n",
       "      <td>FC Lausanne-Sport 2015 ~ 2020</td>\n",
       "      <td>5'9\"</td>\n",
       "      <td>...</td>\n",
       "      <td>59+1</td>\n",
       "      <td>59+1</td>\n",
       "      <td>59+1</td>\n",
       "      <td>58+1</td>\n",
       "      <td>54+1</td>\n",
       "      <td>54+1</td>\n",
       "      <td>54+1</td>\n",
       "      <td>58+1</td>\n",
       "      <td>15+1</td>\n",
       "      <td>64</td>\n",
       "    </tr>\n",
       "    <tr>\n",
       "      <th>1</th>\n",
       "      <td>2225</td>\n",
       "      <td>188044</td>\n",
       "      <td>Alan Carvalho</td>\n",
       "      <td>30</td>\n",
       "      <td>China PR</td>\n",
       "      <td>Beijing Sinobo Guoan FC</td>\n",
       "      <td>ST</td>\n",
       "      <td>ST LW LM</td>\n",
       "      <td>Beijing Sinobo Guoan FC Dec 31, 2020 On Loan</td>\n",
       "      <td>6'0\"</td>\n",
       "      <td>...</td>\n",
       "      <td>53+2</td>\n",
       "      <td>53+2</td>\n",
       "      <td>57+2</td>\n",
       "      <td>53+2</td>\n",
       "      <td>48+2</td>\n",
       "      <td>48+2</td>\n",
       "      <td>48+2</td>\n",
       "      <td>53+2</td>\n",
       "      <td>18+2</td>\n",
       "      <td>77</td>\n",
       "    </tr>\n",
       "    <tr>\n",
       "      <th>2</th>\n",
       "      <td>1959</td>\n",
       "      <td>184431</td>\n",
       "      <td>S. Giovinco</td>\n",
       "      <td>33</td>\n",
       "      <td>Italy</td>\n",
       "      <td>Al Hilal</td>\n",
       "      <td>CAM</td>\n",
       "      <td>CAM CF</td>\n",
       "      <td>Al Hilal 2019 ~ 2022</td>\n",
       "      <td>5'4\"</td>\n",
       "      <td>...</td>\n",
       "      <td>56+2</td>\n",
       "      <td>56+2</td>\n",
       "      <td>59+2</td>\n",
       "      <td>53+2</td>\n",
       "      <td>41+2</td>\n",
       "      <td>41+2</td>\n",
       "      <td>41+2</td>\n",
       "      <td>53+2</td>\n",
       "      <td>12+2</td>\n",
       "      <td>80</td>\n",
       "    </tr>\n",
       "    <tr>\n",
       "      <th>3</th>\n",
       "      <td>9815</td>\n",
       "      <td>233796</td>\n",
       "      <td>J. Evans</td>\n",
       "      <td>22</td>\n",
       "      <td>Wales</td>\n",
       "      <td>Swansea City</td>\n",
       "      <td>CDM</td>\n",
       "      <td>CDM CM</td>\n",
       "      <td>Swansea City 2016 ~ 2021</td>\n",
       "      <td>5'10\"</td>\n",
       "      <td>...</td>\n",
       "      <td>58+2</td>\n",
       "      <td>58+2</td>\n",
       "      <td>56+2</td>\n",
       "      <td>57+2</td>\n",
       "      <td>58+2</td>\n",
       "      <td>58+2</td>\n",
       "      <td>58+2</td>\n",
       "      <td>57+2</td>\n",
       "      <td>14+2</td>\n",
       "      <td>59</td>\n",
       "    </tr>\n",
       "    <tr>\n",
       "      <th>4</th>\n",
       "      <td>10074</td>\n",
       "      <td>234799</td>\n",
       "      <td>Y. Demoncy</td>\n",
       "      <td>23</td>\n",
       "      <td>France</td>\n",
       "      <td>US Orléans Loiret Football</td>\n",
       "      <td>CDM</td>\n",
       "      <td>CDM CM</td>\n",
       "      <td>US Orléans Loiret Football 2018 ~ 2021</td>\n",
       "      <td>5'11\"</td>\n",
       "      <td>...</td>\n",
       "      <td>64+2</td>\n",
       "      <td>64+2</td>\n",
       "      <td>64+2</td>\n",
       "      <td>63+2</td>\n",
       "      <td>61+2</td>\n",
       "      <td>61+2</td>\n",
       "      <td>61+2</td>\n",
       "      <td>63+2</td>\n",
       "      <td>15+2</td>\n",
       "      <td>65</td>\n",
       "    </tr>\n",
       "    <tr>\n",
       "      <th>...</th>\n",
       "      <td>...</td>\n",
       "      <td>...</td>\n",
       "      <td>...</td>\n",
       "      <td>...</td>\n",
       "      <td>...</td>\n",
       "      <td>...</td>\n",
       "      <td>...</td>\n",
       "      <td>...</td>\n",
       "      <td>...</td>\n",
       "      <td>...</td>\n",
       "      <td>...</td>\n",
       "      <td>...</td>\n",
       "      <td>...</td>\n",
       "      <td>...</td>\n",
       "      <td>...</td>\n",
       "      <td>...</td>\n",
       "      <td>...</td>\n",
       "      <td>...</td>\n",
       "      <td>...</td>\n",
       "      <td>...</td>\n",
       "      <td>...</td>\n",
       "    </tr>\n",
       "    <tr>\n",
       "      <th>13695</th>\n",
       "      <td>11284</td>\n",
       "      <td>239074</td>\n",
       "      <td>S. Aw</td>\n",
       "      <td>21</td>\n",
       "      <td>Senegal</td>\n",
       "      <td>Gil Vicente FC</td>\n",
       "      <td>LB</td>\n",
       "      <td>LB</td>\n",
       "      <td>Gil Vicente FC 2020 ~ 2023</td>\n",
       "      <td>5'8\"</td>\n",
       "      <td>...</td>\n",
       "      <td>52+2</td>\n",
       "      <td>52+2</td>\n",
       "      <td>58+2</td>\n",
       "      <td>58+2</td>\n",
       "      <td>54+2</td>\n",
       "      <td>54+2</td>\n",
       "      <td>54+2</td>\n",
       "      <td>58+2</td>\n",
       "      <td>15+2</td>\n",
       "      <td>60</td>\n",
       "    </tr>\n",
       "    <tr>\n",
       "      <th>13696</th>\n",
       "      <td>11964</td>\n",
       "      <td>241223</td>\n",
       "      <td>S. Mogi</td>\n",
       "      <td>21</td>\n",
       "      <td>Japan</td>\n",
       "      <td>Cerezo Osaka</td>\n",
       "      <td>GK</td>\n",
       "      <td>GK</td>\n",
       "      <td>Cerezo Osaka 2017 ~ 2021</td>\n",
       "      <td>6'5\"</td>\n",
       "      <td>...</td>\n",
       "      <td>23+2</td>\n",
       "      <td>23+2</td>\n",
       "      <td>20+2</td>\n",
       "      <td>20+2</td>\n",
       "      <td>22+2</td>\n",
       "      <td>22+2</td>\n",
       "      <td>22+2</td>\n",
       "      <td>20+2</td>\n",
       "      <td>58+2</td>\n",
       "      <td>59</td>\n",
       "    </tr>\n",
       "    <tr>\n",
       "      <th>13697</th>\n",
       "      <td>5390</td>\n",
       "      <td>210930</td>\n",
       "      <td>Carles Gil</td>\n",
       "      <td>27</td>\n",
       "      <td>Spain</td>\n",
       "      <td>New England Revolution</td>\n",
       "      <td>RM</td>\n",
       "      <td>RM CAM CM</td>\n",
       "      <td>New England Revolution 2019 ~ 2024</td>\n",
       "      <td>5'7\"</td>\n",
       "      <td>...</td>\n",
       "      <td>60+2</td>\n",
       "      <td>60+2</td>\n",
       "      <td>62+2</td>\n",
       "      <td>57+2</td>\n",
       "      <td>47+2</td>\n",
       "      <td>47+2</td>\n",
       "      <td>47+2</td>\n",
       "      <td>57+2</td>\n",
       "      <td>18+2</td>\n",
       "      <td>76</td>\n",
       "    </tr>\n",
       "    <tr>\n",
       "      <th>13698</th>\n",
       "      <td>860</td>\n",
       "      <td>162993</td>\n",
       "      <td>J. Perch</td>\n",
       "      <td>34</td>\n",
       "      <td>England</td>\n",
       "      <td>Mansfield Town</td>\n",
       "      <td>CDM</td>\n",
       "      <td>CDM RB CM</td>\n",
       "      <td>Mansfield Town 2020 ~ 2021</td>\n",
       "      <td>5'11\"</td>\n",
       "      <td>...</td>\n",
       "      <td>62+1</td>\n",
       "      <td>62+1</td>\n",
       "      <td>60+2</td>\n",
       "      <td>60+2</td>\n",
       "      <td>63+0</td>\n",
       "      <td>63+0</td>\n",
       "      <td>63+0</td>\n",
       "      <td>60+2</td>\n",
       "      <td>14+2</td>\n",
       "      <td>63</td>\n",
       "    </tr>\n",
       "    <tr>\n",
       "      <th>13699</th>\n",
       "      <td>15795</td>\n",
       "      <td>254882</td>\n",
       "      <td>A. Oeynhausen</td>\n",
       "      <td>18</td>\n",
       "      <td>Germany</td>\n",
       "      <td>SC Paderborn 07</td>\n",
       "      <td>CAM</td>\n",
       "      <td>CM</td>\n",
       "      <td>SC Paderborn 07 2020 ~ 2022</td>\n",
       "      <td>5'10\"</td>\n",
       "      <td>...</td>\n",
       "      <td>55+2</td>\n",
       "      <td>55+2</td>\n",
       "      <td>55+2</td>\n",
       "      <td>54+2</td>\n",
       "      <td>51+2</td>\n",
       "      <td>51+2</td>\n",
       "      <td>51+2</td>\n",
       "      <td>54+2</td>\n",
       "      <td>16+2</td>\n",
       "      <td>60</td>\n",
       "    </tr>\n",
       "  </tbody>\n",
       "</table>\n",
       "<p>13700 rows × 102 columns</p>\n",
       "</div>"
      ],
      "text/plain": [
       "       unnamed:_0      id           name  age  nationality  \\\n",
       "0            1954  184383      A. Pasche   26  Switzerland   \n",
       "1            2225  188044  Alan Carvalho   30     China PR   \n",
       "2            1959  184431    S. Giovinco   33        Italy   \n",
       "3            9815  233796       J. Evans   22        Wales   \n",
       "4           10074  234799     Y. Demoncy   23       France   \n",
       "...           ...     ...            ...  ...          ...   \n",
       "13695       11284  239074          S. Aw   21      Senegal   \n",
       "13696       11964  241223        S. Mogi   21        Japan   \n",
       "13697        5390  210930     Carles Gil   27        Spain   \n",
       "13698         860  162993       J. Perch   34      England   \n",
       "13699       15795  254882  A. Oeynhausen   18      Germany   \n",
       "\n",
       "                             club   bp   position  \\\n",
       "0               FC Lausanne-Sport   CM     CM CDM   \n",
       "1         Beijing Sinobo Guoan FC   ST   ST LW LM   \n",
       "2                        Al Hilal  CAM     CAM CF   \n",
       "3                    Swansea City  CDM     CDM CM   \n",
       "4      US Orléans Loiret Football  CDM     CDM CM   \n",
       "...                           ...  ...        ...   \n",
       "13695              Gil Vicente FC   LB         LB   \n",
       "13696                Cerezo Osaka   GK         GK   \n",
       "13697      New England Revolution   RM  RM CAM CM   \n",
       "13698              Mansfield Town  CDM  CDM RB CM   \n",
       "13699             SC Paderborn 07  CAM         CM   \n",
       "\n",
       "                                    team_&_contract height  ...   cdm   rdm  \\\n",
       "0                     FC Lausanne-Sport 2015 ~ 2020   5'9\"  ...  59+1  59+1   \n",
       "1      Beijing Sinobo Guoan FC Dec 31, 2020 On Loan   6'0\"  ...  53+2  53+2   \n",
       "2                              Al Hilal 2019 ~ 2022   5'4\"  ...  56+2  56+2   \n",
       "3                          Swansea City 2016 ~ 2021  5'10\"  ...  58+2  58+2   \n",
       "4            US Orléans Loiret Football 2018 ~ 2021  5'11\"  ...  64+2  64+2   \n",
       "...                                             ...    ...  ...   ...   ...   \n",
       "13695                    Gil Vicente FC 2020 ~ 2023   5'8\"  ...  52+2  52+2   \n",
       "13696                      Cerezo Osaka 2017 ~ 2021   6'5\"  ...  23+2  23+2   \n",
       "13697            New England Revolution 2019 ~ 2024   5'7\"  ...  60+2  60+2   \n",
       "13698                    Mansfield Town 2020 ~ 2021  5'11\"  ...  62+1  62+1   \n",
       "13699                   SC Paderborn 07 2020 ~ 2022  5'10\"  ...  55+2  55+2   \n",
       "\n",
       "        rwb    lb   lcb    cb   rcb    rb    gk  ova  \n",
       "0      59+1  58+1  54+1  54+1  54+1  58+1  15+1   64  \n",
       "1      57+2  53+2  48+2  48+2  48+2  53+2  18+2   77  \n",
       "2      59+2  53+2  41+2  41+2  41+2  53+2  12+2   80  \n",
       "3      56+2  57+2  58+2  58+2  58+2  57+2  14+2   59  \n",
       "4      64+2  63+2  61+2  61+2  61+2  63+2  15+2   65  \n",
       "...     ...   ...   ...   ...   ...   ...   ...  ...  \n",
       "13695  58+2  58+2  54+2  54+2  54+2  58+2  15+2   60  \n",
       "13696  20+2  20+2  22+2  22+2  22+2  20+2  58+2   59  \n",
       "13697  62+2  57+2  47+2  47+2  47+2  57+2  18+2   76  \n",
       "13698  60+2  60+2  63+0  63+0  63+0  60+2  14+2   63  \n",
       "13699  55+2  54+2  51+2  51+2  51+2  54+2  16+2   60  \n",
       "\n",
       "[13700 rows x 102 columns]"
      ]
     },
     "execution_count": 164,
     "metadata": {},
     "output_type": "execute_result"
    }
   ],
   "source": [
    "transform_weight('weight')"
   ]
  },
  {
   "cell_type": "code",
   "execution_count": 165,
   "metadata": {},
   "outputs": [
    {
     "data": {
      "text/plain": [
       "0    161lbs\n",
       "1    159lbs\n",
       "2    134lbs\n",
       "3    152lbs\n",
       "4    150lbs\n",
       "Name: weight, dtype: object"
      ]
     },
     "execution_count": 165,
     "metadata": {},
     "output_type": "execute_result"
    }
   ],
   "source": [
    "data['weight'].head()"
   ]
  },
  {
   "cell_type": "markdown",
   "metadata": {},
   "source": [
    "#### NaNs"
   ]
  },
  {
   "cell_type": "code",
   "execution_count": 154,
   "metadata": {},
   "outputs": [
    {
     "name": "stdout",
     "output_type": "stream",
     "text": [
      "       unnamed:_0      id           name  age  nationality  \\\n",
      "0            1954  184383      A. Pasche   26  Switzerland   \n",
      "1            2225  188044  Alan Carvalho   30     China PR   \n",
      "2            1959  184431    S. Giovinco   33        Italy   \n",
      "3            9815  233796       J. Evans   22        Wales   \n",
      "4           10074  234799     Y. Demoncy   23       France   \n",
      "...           ...     ...            ...  ...          ...   \n",
      "13695       11284  239074          S. Aw   21      Senegal   \n",
      "13696       11964  241223        S. Mogi   21        Japan   \n",
      "13697        5390  210930     Carles Gil   27        Spain   \n",
      "13698         860  162993       J. Perch   34      England   \n",
      "13699       15795  254882  A. Oeynhausen   18      Germany   \n",
      "\n",
      "                             club   bp   position  \\\n",
      "0               FC Lausanne-Sport   CM     CM CDM   \n",
      "1         Beijing Sinobo Guoan FC   ST   ST LW LM   \n",
      "2                        Al Hilal  CAM     CAM CF   \n",
      "3                    Swansea City  CDM     CDM CM   \n",
      "4      US Orléans Loiret Football  CDM     CDM CM   \n",
      "...                           ...  ...        ...   \n",
      "13695              Gil Vicente FC   LB         LB   \n",
      "13696                Cerezo Osaka   GK         GK   \n",
      "13697      New England Revolution   RM  RM CAM CM   \n",
      "13698              Mansfield Town  CDM  CDM RB CM   \n",
      "13699             SC Paderborn 07  CAM         CM   \n",
      "\n",
      "                                    team_&_contract height  ...   cdm   rdm  \\\n",
      "0                     FC Lausanne-Sport 2015 ~ 2020   5'9\"  ...  59+1  59+1   \n",
      "1      Beijing Sinobo Guoan FC Dec 31, 2020 On Loan   6'0\"  ...  53+2  53+2   \n",
      "2                              Al Hilal 2019 ~ 2022   5'4\"  ...  56+2  56+2   \n",
      "3                          Swansea City 2016 ~ 2021  5'10\"  ...  58+2  58+2   \n",
      "4            US Orléans Loiret Football 2018 ~ 2021  5'11\"  ...  64+2  64+2   \n",
      "...                                             ...    ...  ...   ...   ...   \n",
      "13695                    Gil Vicente FC 2020 ~ 2023   5'8\"  ...  52+2  52+2   \n",
      "13696                      Cerezo Osaka 2017 ~ 2021   6'5\"  ...  23+2  23+2   \n",
      "13697            New England Revolution 2019 ~ 2024   5'7\"  ...  60+2  60+2   \n",
      "13698                    Mansfield Town 2020 ~ 2021  5'11\"  ...  62+1  62+1   \n",
      "13699                   SC Paderborn 07 2020 ~ 2022  5'10\"  ...  55+2  55+2   \n",
      "\n",
      "        rwb    lb   lcb    cb   rcb    rb    gk  ova  \n",
      "0      59+1  58+1  54+1  54+1  54+1  58+1  15+1   64  \n",
      "1      57+2  53+2  48+2  48+2  48+2  53+2  18+2   77  \n",
      "2      59+2  53+2  41+2  41+2  41+2  53+2  12+2   80  \n",
      "3      56+2  57+2  58+2  58+2  58+2  57+2  14+2   59  \n",
      "4      64+2  63+2  61+2  61+2  61+2  63+2  15+2   65  \n",
      "...     ...   ...   ...   ...   ...   ...   ...  ...  \n",
      "13695  58+2  58+2  54+2  54+2  54+2  58+2  15+2   60  \n",
      "13696  20+2  20+2  22+2  22+2  22+2  20+2  58+2   59  \n",
      "13697  62+2  57+2  47+2  47+2  47+2  57+2  18+2   76  \n",
      "13698  60+2  60+2  63+0  63+0  63+0  60+2  14+2   63  \n",
      "13699  55+2  54+2  51+2  51+2  51+2  54+2  16+2   60  \n",
      "\n",
      "[13700 rows x 102 columns]\n"
     ]
    }
   ],
   "source": [
    "df = pd.DataFrame(data)\n",
    "df = df.fillna(0)\n",
    "print(df)"
   ]
  },
  {
   "cell_type": "code",
   "execution_count": 157,
   "metadata": {},
   "outputs": [
    {
     "data": {
      "text/plain": [
       "0"
      ]
     },
     "execution_count": 157,
     "metadata": {},
     "output_type": "execute_result"
    }
   ],
   "source": [
    "df.duplicated().sum()"
   ]
  },
  {
   "cell_type": "markdown",
   "metadata": {},
   "source": [
    "#### Duplicados"
   ]
  },
  {
   "cell_type": "code",
   "execution_count": 158,
   "metadata": {},
   "outputs": [
    {
     "data": {
      "text/plain": [
       "0"
      ]
     },
     "execution_count": 158,
     "metadata": {},
     "output_type": "execute_result"
    }
   ],
   "source": [
    "df.duplicated().sum()"
   ]
  },
  {
   "cell_type": "code",
   "execution_count": 159,
   "metadata": {},
   "outputs": [],
   "source": [
    "data = data.drop_duplicates()"
   ]
  },
  {
   "cell_type": "code",
   "execution_count": 160,
   "metadata": {},
   "outputs": [
    {
     "name": "stdout",
     "output_type": "stream",
     "text": [
      "(13700, 102)\n"
     ]
    }
   ],
   "source": [
    "print (data.shape)"
   ]
  },
  {
   "cell_type": "markdown",
   "metadata": {},
   "source": [
    "### Formula limpieza datos"
   ]
  },
  {
   "cell_type": "code",
   "execution_count": 136,
   "metadata": {},
   "outputs": [],
   "source": [
    "def columnas_bien_limpitas(df) :\n",
    "    data.columns=[e.lower().replace(' ', '_') for e in data.columns]\n",
    "    df.columns = [e.str.split('[ + ]', expand=True)for e in df.columns]\n",
    "    df.columns = [e.str.split('[ ★ ]', expand=True)for e in df.columns]\n",
    "    float (c.split('\\'')[0]) * 12 + float(c.split('\\'')[1][:-1])\n",
    "    data.columns = [col.replace(\"lbs\", \"\") for col in data.columns]\n",
    "    df = df.fillna(0)\n",
    "    data = data.drop_duplicates()\n",
    "    return df"
   ]
  }
 ],
 "metadata": {
  "kernelspec": {
   "display_name": "Python 3 (ipykernel)",
   "language": "python",
   "name": "python3"
  },
  "language_info": {
   "codemirror_mode": {
    "name": "ipython",
    "version": 3
   },
   "file_extension": ".py",
   "mimetype": "text/x-python",
   "name": "python",
   "nbconvert_exporter": "python",
   "pygments_lexer": "ipython3",
   "version": "3.9.12"
  }
 },
 "nbformat": 4,
 "nbformat_minor": 4
}
