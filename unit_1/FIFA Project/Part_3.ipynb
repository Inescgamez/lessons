{
 "cells": [
  {
   "cell_type": "markdown",
   "metadata": {},
   "source": [
    "# FIFA 21 PROJECT (III)\n",
    "\n",
    "<br><br>\n",
    "\n",
    "Now you will work only in the `group jupyter notebook`.\n",
    "\n",
    "It is s time to train a linear model and save it. Please take a look to the following [resource](https://machinelearningmastery.com/save-load-machine-learning-models-python-scikit-learn/) to know how to do it.\n",
    "\n",
    "In addition you will need to create functions to make predictions with your group model and to evaluate the model's results on your `group jupyter notebook`.\n",
    "\n",
    "Later, the LT will pick your `group jupyter notebook`, it will load another dataset and it will apply/call your functions to clean the dataset, make predictions with your model and then evaluate your group model into the new unseen data."
   ]
  },
  {
   "cell_type": "code",
   "execution_count": 1,
   "metadata": {},
   "outputs": [
    {
     "ename": "TypeError",
     "evalue": "pipe() missing 1 required positional argument: 'func'",
     "output_type": "error",
     "traceback": [
      "\u001b[1;31m---------------------------------------------------------------------------\u001b[0m",
      "\u001b[1;31mTypeError\u001b[0m                                 Traceback (most recent call last)",
      "Input \u001b[1;32mIn [1]\u001b[0m, in \u001b[0;36m<cell line: 19>\u001b[1;34m()\u001b[0m\n\u001b[0;32m     15\u001b[0m     \u001b[38;5;28;01mreturn\u001b[39;00m df\n\u001b[0;32m     17\u001b[0m df \u001b[38;5;241m=\u001b[39m pd\u001b[38;5;241m.\u001b[39mDataFrame\n\u001b[1;32m---> 19\u001b[0m df_final \u001b[38;5;241m=\u001b[39m df(\u001b[43mdf\u001b[49m\u001b[38;5;241;43m.\u001b[39;49m\u001b[43mpipe\u001b[49m\u001b[43m \u001b[49m\u001b[43m(\u001b[49m\u001b[43mcolumnas_bien_limpitas\u001b[49m\u001b[43m)\u001b[49m)\n\u001b[0;32m     21\u001b[0m X \u001b[38;5;241m=\u001b[39m data [\u001b[38;5;124m'\u001b[39m\u001b[38;5;124mname\u001b[39m\u001b[38;5;124m'\u001b[39m, \u001b[38;5;124m'\u001b[39m\u001b[38;5;124mheading_accuracy\u001b[39m\u001b[38;5;124m'\u001b[39m, \u001b[38;5;124m'\u001b[39m\u001b[38;5;124mshort_passing\u001b[39m\u001b[38;5;124m'\u001b[39m, \u001b[38;5;124m'\u001b[39m\u001b[38;5;124mlong_passing\u001b[39m\u001b[38;5;124m'\u001b[39m, \u001b[38;5;124m'\u001b[39m\u001b[38;5;124mfk_accuracy\u001b[39m\u001b[38;5;124m'\u001b[39m, \u001b[38;5;124m'\u001b[39m\u001b[38;5;124mball_control\u001b[39m\u001b[38;5;124m'\u001b[39m, \u001b[38;5;124m'\u001b[39m\u001b[38;5;124mshot_power\u001b[39m\u001b[38;5;124m'\u001b[39m, \u001b[38;5;124m'\u001b[39m\u001b[38;5;124mlong_shots\u001b[39m\u001b[38;5;124m'\u001b[39m, \u001b[38;5;124m'\u001b[39m\u001b[38;5;124mgk_handling\u001b[39m\u001b[38;5;124m'\u001b[39m, \u001b[38;5;124m'\u001b[39m\u001b[38;5;124mgk_reflexes\u001b[39m\u001b[38;5;124m'\u001b[39m]\n\u001b[0;32m     22\u001b[0m y \u001b[38;5;241m=\u001b[39m data [\u001b[38;5;124m'\u001b[39m\u001b[38;5;124mOVA\u001b[39m\u001b[38;5;124m'\u001b[39m]\n",
      "\u001b[1;31mTypeError\u001b[0m: pipe() missing 1 required positional argument: 'func'"
     ]
    }
   ],
   "source": [
    "import pandas as pd\n",
    "import numpy as np\n",
    "\n",
    "from sklearn.linear_model import LinearRegression\n",
    "LR = LinearRegression()\n",
    "\n",
    "def columnas_bien_limpitas(df) :\n",
    "    data.columns=[e.lower().replace(' ', '_') for e in data.columns]\n",
    "    df.columns = [e.str.split('[ + ]', expand=True)for e in df.columns]\n",
    "    df.columns = [e.str.split('[ ★ ]', expand=True)for e in df.columns]\n",
    "    float (c.split('\\'')[0]) * 12 + float(c.split('\\'')[1][:-1])\n",
    "    data.columns = [col.replace(\"lbs\", \"\") for col in data.columns]\n",
    "    df = df.fillna(0)\n",
    "    data = data.drop_duplicates()\n",
    "    return df\n",
    "\n",
    "df = pd.DataFrame\n",
    "\n",
    "df_final = df(df.pipe (columnas_bien_limpitas))\n",
    "\n",
    "X = data ['name', 'heading_accuracy', 'short_passing', 'long_passing', 'fk_accuracy', 'ball_control', 'shot_power', 'long_shots', 'gk_handling', 'gk_reflexes']\n",
    "y = data ['OVA']\n",
    "\n",
    "LR.fit(X, Y).score(X, y)"
   ]
  },
  {
   "cell_type": "code",
   "execution_count": null,
   "metadata": {},
   "outputs": [],
   "source": []
  }
 ],
 "metadata": {
  "kernelspec": {
   "display_name": "Python 3 (ipykernel)",
   "language": "python",
   "name": "python3"
  },
  "language_info": {
   "codemirror_mode": {
    "name": "ipython",
    "version": 3
   },
   "file_extension": ".py",
   "mimetype": "text/x-python",
   "name": "python",
   "nbconvert_exporter": "python",
   "pygments_lexer": "ipython3",
   "version": "3.9.12"
  }
 },
 "nbformat": 4,
 "nbformat_minor": 4
}
